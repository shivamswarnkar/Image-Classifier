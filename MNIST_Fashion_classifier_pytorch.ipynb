{
  "nbformat": 4,
  "nbformat_minor": 0,
  "metadata": {
    "colab": {
      "name": "MNIST_Fashion_classifier_pytorch.ipynb",
      "version": "0.3.2",
      "provenance": [],
      "include_colab_link": true
    },
    "kernelspec": {
      "name": "python3",
      "display_name": "Python 3"
    },
    "accelerator": "GPU"
  },
  "cells": [
    {
      "cell_type": "markdown",
      "metadata": {
        "id": "view-in-github",
        "colab_type": "text"
      },
      "source": [
        "<a href=\"https://colab.research.google.com/github/shivamswarnkar/Image-Classifier/blob/master/MNIST_Fashion_classifier_pytorch.ipynb\" target=\"_parent\"><img src=\"https://colab.research.google.com/assets/colab-badge.svg\" alt=\"Open In Colab\"/></a>"
      ]
    },
    {
      "cell_type": "markdown",
      "metadata": {
        "id": "pDfCeJVaAzI9",
        "colab_type": "text"
      },
      "source": [
        "# Download Data and setup Train/Test loader"
      ]
    },
    {
      "cell_type": "code",
      "metadata": {
        "id": "OIL2h8Ko6n4E",
        "colab_type": "code",
        "outputId": "6b0842c4-2415-4b3a-a2ee-f29373e67fd6",
        "colab": {
          "base_uri": "https://localhost:8080/",
          "height": 275
        }
      },
      "source": [
        "import torch\n",
        "from torchvision import datasets, transforms\n",
        "\n",
        "# Define Transform\n",
        "transform = transforms.Compose([transforms.ToTensor(),\n",
        "                               transforms.Normalize((0.5,),(0.5,))])\n",
        "\n",
        "# Download and load the training data\n",
        "trainset = datasets.FashionMNIST('~/.pytorch/F_MNIST_data/', download=True, train=True, transform=transform)\n",
        "trainloader = torch.utils.data.DataLoader(trainset, batch_size=64, shuffle=True)\n",
        "\n",
        "# Download and load the test data\n",
        "testset = datasets.FashionMNIST('~/.pytorch/F_MNIST_data/', download=True, train=False, transform=transform)\n",
        "testloader = torch.utils.data.DataLoader(testset, batch_size=64, shuffle=True)"
      ],
      "execution_count": 0,
      "outputs": [
        {
          "output_type": "stream",
          "text": [
            "  0%|          | 0/26421880 [00:00<?, ?it/s]"
          ],
          "name": "stderr"
        },
        {
          "output_type": "stream",
          "text": [
            "Downloading http://fashion-mnist.s3-website.eu-central-1.amazonaws.com/train-images-idx3-ubyte.gz to /root/.pytorch/F_MNIST_data/FashionMNIST/raw/train-images-idx3-ubyte.gz\n"
          ],
          "name": "stdout"
        },
        {
          "output_type": "stream",
          "text": [
            "26427392it [00:00, 74538718.66it/s]                              \n"
          ],
          "name": "stderr"
        },
        {
          "output_type": "stream",
          "text": [
            "Extracting /root/.pytorch/F_MNIST_data/FashionMNIST/raw/train-images-idx3-ubyte.gz\n"
          ],
          "name": "stdout"
        },
        {
          "output_type": "stream",
          "text": [
            "32768it [00:00, 588366.80it/s]\n",
            "  2%|▏         | 106496/4422102 [00:00<00:04, 1029109.16it/s]"
          ],
          "name": "stderr"
        },
        {
          "output_type": "stream",
          "text": [
            "Downloading http://fashion-mnist.s3-website.eu-central-1.amazonaws.com/train-labels-idx1-ubyte.gz to /root/.pytorch/F_MNIST_data/FashionMNIST/raw/train-labels-idx1-ubyte.gz\n",
            "Extracting /root/.pytorch/F_MNIST_data/FashionMNIST/raw/train-labels-idx1-ubyte.gz\n",
            "Downloading http://fashion-mnist.s3-website.eu-central-1.amazonaws.com/t10k-images-idx3-ubyte.gz to /root/.pytorch/F_MNIST_data/FashionMNIST/raw/t10k-images-idx3-ubyte.gz\n"
          ],
          "name": "stdout"
        },
        {
          "output_type": "stream",
          "text": [
            "4423680it [00:00, 23316898.44it/s]                           \n",
            "8192it [00:00, 178842.40it/s]\n"
          ],
          "name": "stderr"
        },
        {
          "output_type": "stream",
          "text": [
            "Extracting /root/.pytorch/F_MNIST_data/FashionMNIST/raw/t10k-images-idx3-ubyte.gz\n",
            "Downloading http://fashion-mnist.s3-website.eu-central-1.amazonaws.com/t10k-labels-idx1-ubyte.gz to /root/.pytorch/F_MNIST_data/FashionMNIST/raw/t10k-labels-idx1-ubyte.gz\n",
            "Extracting /root/.pytorch/F_MNIST_data/FashionMNIST/raw/t10k-labels-idx1-ubyte.gz\n",
            "Processing...\n",
            "Done!\n"
          ],
          "name": "stdout"
        }
      ]
    },
    {
      "cell_type": "markdown",
      "metadata": {
        "id": "SoqSbDWmA9Oc",
        "colab_type": "text"
      },
      "source": [
        "# Util Functions"
      ]
    },
    {
      "cell_type": "code",
      "metadata": {
        "id": "pY73XanPAk1o",
        "colab_type": "code",
        "colab": {}
      },
      "source": [
        "import matplotlib.pyplot as plt\n",
        "%matplotlib inline \n",
        "%config InlineBackend.figure_format = 'retina'\n"
      ],
      "execution_count": 0,
      "outputs": []
    },
    {
      "cell_type": "code",
      "metadata": {
        "id": "WXrXUCYuOAbv",
        "colab_type": "code",
        "colab": {}
      },
      "source": [
        "# util function to display image next to predicted probabilities\n",
        "def view_classify(img, ps, actual_digit=None):\n",
        "  fig, (ax1, ax2) = plt.subplots(1, 2)\n",
        "  fig.suptitle('Digit vs Predicted Probabilities')\n",
        "  ax1.imshow(img.view(1,28,28).squeeze(), cmap=\"Greys_r\")\n",
        "  ax1.title.set_text(f'Actual Digit={actual_digit}')\n",
        "  ax2.barh(range(10), ps.numpy().squeeze())"
      ],
      "execution_count": 0,
      "outputs": []
    },
    {
      "cell_type": "markdown",
      "metadata": {
        "id": "wcrFRoZzBBNf",
        "colab_type": "text"
      },
      "source": [
        "# Building Network"
      ]
    },
    {
      "cell_type": "code",
      "metadata": {
        "id": "aOVWqJBYBBat",
        "colab_type": "code",
        "colab": {}
      },
      "source": [
        "from torch import nn\n",
        "import torch.nn.functional as F"
      ],
      "execution_count": 0,
      "outputs": []
    },
    {
      "cell_type": "code",
      "metadata": {
        "id": "bTXBTJcNw8Sp",
        "colab_type": "code",
        "colab": {}
      },
      "source": [
        "# Define Network\n",
        "model = nn.Sequential(nn.Linear(784, 256),\n",
        "                     nn.ReLU(),\n",
        "                     nn.Linear(256, 128),\n",
        "                     nn.ReLU(),\n",
        "                     nn.Linear(128, 64),\n",
        "                     nn.ReLU(),\n",
        "                     nn.Linear(64,10),\n",
        "                     nn.LogSoftmax(dim=1))"
      ],
      "execution_count": 0,
      "outputs": []
    },
    {
      "cell_type": "markdown",
      "metadata": {
        "id": "D3u3xiXwBF7D",
        "colab_type": "text"
      },
      "source": [
        "# Training Network"
      ]
    },
    {
      "cell_type": "code",
      "metadata": {
        "id": "5gxioMt0BGNI",
        "colab_type": "code",
        "colab": {}
      },
      "source": [
        "# Hypter Params\n",
        "lr = 0.01\n",
        "epochs = 25\n",
        "\n",
        "# Setup Loss\n",
        "criterion = nn.NLLLoss()\n",
        "\n",
        "# Setup Optimizer\n",
        "optimizer = torch.optim.SGD(model.parameters(),lr=lr)"
      ],
      "execution_count": 0,
      "outputs": []
    },
    {
      "cell_type": "code",
      "metadata": {
        "id": "LjDLApsJyF6I",
        "colab_type": "code",
        "colab": {
          "base_uri": "https://localhost:8080/",
          "height": 442
        },
        "outputId": "23a1fdc8-d874-4c5b-b6f3-1a9e7bf80587"
      },
      "source": [
        "# train\n",
        "for e in range(epochs):\n",
        "  running_loss = 0\n",
        "  for images, labels in trainloader:\n",
        "    # flatten images\n",
        "    images = images.view(images.shape[0], -1)\n",
        "    \n",
        "    # set gradients to zero\n",
        "    optimizer.zero_grad()\n",
        "\n",
        "    # feedforward, calculate loss\n",
        "    loss = criterion(model(images), labels)\n",
        "\n",
        "    # backprop\n",
        "    loss.backward()\n",
        "\n",
        "    # update weights and bias\n",
        "    optimizer.step()\n",
        "    \n",
        "    # add loss to running_loss\n",
        "    running_loss += loss.item()\n",
        "  print(f'Epoch {e}: Running Loss={running_loss}.')"
      ],
      "execution_count": 18,
      "outputs": [
        {
          "output_type": "stream",
          "text": [
            "Epoch 0: Running Loss=1272.3165283203125.\n",
            "Epoch 1: Running Loss=616.5166625976562.\n",
            "Epoch 2: Running Loss=516.6498413085938.\n",
            "Epoch 3: Running Loss=463.5735778808594.\n",
            "Epoch 4: Running Loss=430.04205322265625.\n",
            "Epoch 5: Running Loss=404.49322509765625.\n",
            "Epoch 6: Running Loss=384.2401428222656.\n",
            "Epoch 7: Running Loss=368.7677001953125.\n",
            "Epoch 8: Running Loss=354.6277160644531.\n",
            "Epoch 9: Running Loss=344.290771484375.\n",
            "Epoch 10: Running Loss=333.4358825683594.\n",
            "Epoch 11: Running Loss=323.1615295410156.\n",
            "Epoch 12: Running Loss=315.64581298828125.\n",
            "Epoch 13: Running Loss=307.6250915527344.\n",
            "Epoch 14: Running Loss=299.702880859375.\n",
            "Epoch 15: Running Loss=292.0810852050781.\n",
            "Epoch 16: Running Loss=286.3385925292969.\n",
            "Epoch 17: Running Loss=279.59857177734375.\n",
            "Epoch 18: Running Loss=274.47943115234375.\n",
            "Epoch 19: Running Loss=267.44927978515625.\n",
            "Epoch 20: Running Loss=262.55694580078125.\n",
            "Epoch 21: Running Loss=258.8765563964844.\n",
            "Epoch 22: Running Loss=253.6900177001953.\n",
            "Epoch 23: Running Loss=248.0902557373047.\n",
            "Epoch 24: Running Loss=244.2301483154297.\n"
          ],
          "name": "stdout"
        }
      ]
    },
    {
      "cell_type": "markdown",
      "metadata": {
        "id": "CBHGKqyRBN1n",
        "colab_type": "text"
      },
      "source": [
        "# Test Network"
      ]
    },
    {
      "cell_type": "code",
      "metadata": {
        "id": "x6ruEeaUBN9s",
        "colab_type": "code",
        "colab": {
          "base_uri": "https://localhost:8080/",
          "height": 348
        },
        "outputId": "8ed26cf6-b28d-4d08-990c-e07d8fdfea58"
      },
      "source": [
        "with torch.no_grad():\n",
        "  images, labels = iter(testloader).next()\n",
        "  ps = torch.exp(model(images[0].view(-1, 784)))\n",
        "  print(ps)\n",
        "  view_classify(images[0], ps, labels[0])"
      ],
      "execution_count": 25,
      "outputs": [
        {
          "output_type": "stream",
          "text": [
            "tensor([[2.0238e-03, 1.1985e-03, 1.9218e-05, 9.9398e-01, 6.2952e-04, 1.4439e-05,\n",
            "         2.0077e-03, 2.2137e-07, 8.3144e-05, 4.4063e-05]])\n"
          ],
          "name": "stdout"
        },
        {
          "output_type": "display_data",
          "data": {
            "image/png": "[encoded data removed]",
            "text/plain": [
              "<Figure size 432x288 with 2 Axes>"
            ]
          },
          "metadata": {
            "tags": [],
            "image/png": {
              "width": 373,
              "height": 277
            }
          }
        }
      ]
    },
    {
      "cell_type": "code",
      "metadata": {
        "id": "csy1hm-O0r2T",
        "colab_type": "code",
        "colab": {}
      },
      "source": [
        ""
      ],
      "execution_count": 0,
      "outputs": []
    }
  ]
}