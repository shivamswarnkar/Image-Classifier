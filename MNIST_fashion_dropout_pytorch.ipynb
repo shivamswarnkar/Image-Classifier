{
  "nbformat": 4,
  "nbformat_minor": 0,
  "metadata": {
    "colab": {
      "name": "MNIST_fashion_dropout_pytorch.ipynb",
      "version": "0.3.2",
      "provenance": [],
      "include_colab_link": true
    },
    "kernelspec": {
      "name": "python3",
      "display_name": "Python 3"
    },
    "accelerator": "GPU"
  },
  "cells": [
    {
      "cell_type": "markdown",
      "metadata": {
        "id": "view-in-github",
        "colab_type": "text"
      },
      "source": [
        "<a href=\"https://colab.research.google.com/github/shivamswarnkar/Image-Classifier/blob/master/MNIST_fashion_dropout_pytorch.ipynb\" target=\"_parent\"><img src=\"https://colab.research.google.com/assets/colab-badge.svg\" alt=\"Open In Colab\"/></a>"
      ]
    },
    {
      "cell_type": "markdown",
      "metadata": {
        "id": "bbN14s64fAmz",
        "colab_type": "text"
      },
      "source": [
        "# Load Data"
      ]
    },
    {
      "cell_type": "code",
      "metadata": {
        "id": "OAjzyASXd8Qx",
        "colab_type": "code",
        "colab": {}
      },
      "source": [
        "import torch\n",
        "from torchvision import datasets, transforms\n",
        "\n",
        "# Define a transform to normalize data\n",
        "transform = transforms.Compose([transforms.ToTensor(), transforms.Normalize((0.5,),(0.5,))])\n",
        "\n",
        "# Download and load the data set\n",
        "trainset = datasets.FashionMNIST('~/.pytorch/F_MNIST_data/', download=True, train=True, transform=transform)\n",
        "trainloader = torch.utils.data.DataLoader(trainset, batch_size=64, shuffle=True)\n",
        "\n",
        "# Download and load the test data\n",
        "testset = datasets.FashionMNIST('~/.pytorch/F_MNIST_data/', download=True, train=False, transform=transform)\n",
        "testloader = torch.utils.data.DataLoader(testset, batch_size=64, shuffle=True)"
      ],
      "execution_count": 0,
      "outputs": []
    },
    {
      "cell_type": "markdown",
      "metadata": {
        "id": "BVVUrLgshjWB",
        "colab_type": "text"
      },
      "source": [
        "# Define and Train Model (without Dropout)"
      ]
    },
    {
      "cell_type": "code",
      "metadata": {
        "id": "lmi0R6DvhgyI",
        "colab_type": "code",
        "colab": {}
      },
      "source": [
        "from torch import nn, optim\n",
        "import torch.nn.functional as F\n",
        "\n",
        "\n",
        "# Define Classifier Network \n",
        "class Classifier(nn.Module):\n",
        "  def __init__(self):\n",
        "    super().__init__()\n",
        "    self.fc1 = nn.Linear(784, 256)\n",
        "    self.fc2 = nn.Linear(256, 128)\n",
        "    self.fc3 = nn.Linear(128, 64)\n",
        "    self.fc4 = nn.Linear(64, 10)\n",
        "    \n",
        "  def forward(self, x):\n",
        "    \n",
        "    # flatten x if input tensor is not flat\n",
        "    x = x.view(x.shape[0], -1)\n",
        "    \n",
        "    # forward pass\n",
        "    x = F.relu(self.fc1(x))\n",
        "    x = F.relu(self.fc2(x))\n",
        "    x = F.relu(self.fc3(x))\n",
        "    x = F.log_softmax(self.fc4(x), dim=1)\n",
        "    \n",
        "    return x"
      ],
      "execution_count": 0,
      "outputs": []
    },
    {
      "cell_type": "code",
      "metadata": {
        "id": "rW2NBiJijmrq",
        "colab_type": "code",
        "colab": {}
      },
      "source": [
        "# setting up network\n",
        "model = Classifier()\n",
        "\n",
        "# hyper params\n",
        "lr = 0.003\n",
        "epochs = 30\n",
        "\n",
        "# optimize and loss func\n",
        "criterion = nn.NLLLoss()\n",
        "optimizer = optim.Adam(model.parameters(), lr=lr)"
      ],
      "execution_count": 0,
      "outputs": []
    },
    {
      "cell_type": "code",
      "metadata": {
        "id": "3DehXkYhkbH1",
        "colab_type": "code",
        "colab": {
          "base_uri": "https://localhost:8080/",
          "height": 527
        },
        "outputId": "5204e2cf-98b8-4774-8cd7-d96267a77b80"
      },
      "source": [
        "# trainning Network\n",
        "train_losses, test_losses = [], []\n",
        "for e in range(epochs):\n",
        "  running_loss = 0\n",
        "  \n",
        "  # train network\n",
        "  for images, labels in trainloader:\n",
        "    optimizer.zero_grad()\n",
        "    loss = criterion(model(images), labels)\n",
        "    loss.backward()\n",
        "    optimizer.step()\n",
        "    \n",
        "    running_loss += loss.item()\n",
        "  \n",
        "  # validate network\n",
        "  \n",
        "  with torch.no_grad():\n",
        "    running_loss_validation = 0\n",
        "    accuracy = 0\n",
        "    for images, labels in testloader:\n",
        "      log_ps = model(images)\n",
        "      \n",
        "      # loss\n",
        "      running_loss_validation += criterion(log_ps, labels).item() \n",
        "      \n",
        "      # accuracy\n",
        "      ps = torch.exp(log_ps)\n",
        "      _, top_class = ps.topk(1, dim=1)\n",
        "      equals = top_class == labels.view(*top_class.shape)\n",
        "      accuracy += torch.mean(equals.type(torch.FloatTensor))\n",
        "  \n",
        "  train_losses.append(running_loss/len(trainloader))\n",
        "  test_losses.append(running_loss_validation/len(testloader))\n",
        "  print(f'Epoch {e+1}/{epochs}:\\\n",
        "  Test Accuracy:{100*accuracy/len(testloader):.3f}%\\\n",
        "  Train Loss:{running_loss/len(trainloader):.3f}\\\n",
        "  Test Loss:{running_loss_validation/len(testloader):.3f}')  "
      ],
      "execution_count": 18,
      "outputs": [
        {
          "output_type": "stream",
          "text": [
            "Epoch 1/30:  Test Accuracy:82.683%  Train Loss:0.517  Test Loss:0.476\n",
            "Epoch 2/30:  Test Accuracy:85.768%  Train Loss:0.391  Test Loss:0.401\n",
            "Epoch 3/30:  Test Accuracy:85.888%  Train Loss:0.359  Test Loss:0.387\n",
            "Epoch 4/30:  Test Accuracy:86.783%  Train Loss:0.332  Test Loss:0.373\n",
            "Epoch 5/30:  Test Accuracy:86.127%  Train Loss:0.319  Test Loss:0.383\n",
            "Epoch 6/30:  Test Accuracy:86.953%  Train Loss:0.303  Test Loss:0.371\n",
            "Epoch 7/30:  Test Accuracy:87.669%  Train Loss:0.293  Test Loss:0.356\n",
            "Epoch 8/30:  Test Accuracy:88.037%  Train Loss:0.283  Test Loss:0.361\n",
            "Epoch 9/30:  Test Accuracy:87.142%  Train Loss:0.281  Test Loss:0.370\n",
            "Epoch 10/30:  Test Accuracy:87.550%  Train Loss:0.267  Test Loss:0.364\n",
            "Epoch 11/30:  Test Accuracy:87.689%  Train Loss:0.261  Test Loss:0.365\n",
            "Epoch 12/30:  Test Accuracy:87.291%  Train Loss:0.257  Test Loss:0.366\n",
            "Epoch 13/30:  Test Accuracy:88.316%  Train Loss:0.246  Test Loss:0.350\n",
            "Epoch 14/30:  Test Accuracy:87.619%  Train Loss:0.244  Test Loss:0.375\n",
            "Epoch 15/30:  Test Accuracy:87.978%  Train Loss:0.237  Test Loss:0.364\n",
            "Epoch 16/30:  Test Accuracy:87.072%  Train Loss:0.232  Test Loss:0.381\n",
            "Epoch 17/30:  Test Accuracy:87.918%  Train Loss:0.231  Test Loss:0.380\n",
            "Epoch 18/30:  Test Accuracy:88.575%  Train Loss:0.227  Test Loss:0.363\n",
            "Epoch 19/30:  Test Accuracy:88.246%  Train Loss:0.217  Test Loss:0.372\n",
            "Epoch 20/30:  Test Accuracy:87.739%  Train Loss:0.215  Test Loss:0.393\n",
            "Epoch 21/30:  Test Accuracy:88.625%  Train Loss:0.217  Test Loss:0.366\n",
            "Epoch 22/30:  Test Accuracy:88.157%  Train Loss:0.205  Test Loss:0.386\n",
            "Epoch 23/30:  Test Accuracy:88.406%  Train Loss:0.205  Test Loss:0.376\n",
            "Epoch 24/30:  Test Accuracy:88.436%  Train Loss:0.202  Test Loss:0.404\n",
            "Epoch 25/30:  Test Accuracy:87.938%  Train Loss:0.207  Test Loss:0.433\n",
            "Epoch 26/30:  Test Accuracy:88.336%  Train Loss:0.196  Test Loss:0.394\n",
            "Epoch 27/30:  Test Accuracy:88.784%  Train Loss:0.205  Test Loss:0.378\n",
            "Epoch 28/30:  Test Accuracy:88.187%  Train Loss:0.194  Test Loss:0.397\n",
            "Epoch 29/30:  Test Accuracy:88.326%  Train Loss:0.194  Test Loss:0.390\n",
            "Epoch 30/30:  Test Accuracy:87.958%  Train Loss:0.183  Test Loss:0.395\n"
          ],
          "name": "stdout"
        }
      ]
    },
    {
      "cell_type": "code",
      "metadata": {
        "id": "sgSug17y3xU7",
        "colab_type": "code",
        "colab": {}
      },
      "source": [
        "# plot loss\n",
        "import matplotlib.pyplot as plt\n",
        "%matplotlib inline"
      ],
      "execution_count": 0,
      "outputs": []
    },
    {
      "cell_type": "code",
      "metadata": {
        "id": "LpYHu5Ip7JZo",
        "colab_type": "code",
        "colab": {
          "base_uri": "https://localhost:8080/",
          "height": 286
        },
        "outputId": "eaa32898-c0d6-4721-ef75-0c87ad399ffe"
      },
      "source": [
        "plt.plot(train_losses, label='Training Loss')\n",
        "plt.plot(test_losses, label='Validation Loss')\n",
        "plt.legend(frameon=False)"
      ],
      "execution_count": 20,
      "outputs": [
        {
          "output_type": "execute_result",
          "data": {
            "text/plain": [
              "<matplotlib.legend.Legend at 0x7fe8596615c0>"
            ]
          },
          "metadata": {
            "tags": []
          },
          "execution_count": 20
        },
        {
          "output_type": "display_data",
          "data": {
            "image/png": "[encoded data removed]",
            "text/plain": [
              "<Figure size 432x288 with 1 Axes>"
            ]
          },
          "metadata": {
            "tags": []
          }
        }
      ]
    },
    {
      "cell_type": "markdown",
      "metadata": {
        "id": "urKUo77KGiVA",
        "colab_type": "text"
      },
      "source": [
        "# Fixing Overfitting (Dropout)"
      ]
    },
    {
      "cell_type": "code",
      "metadata": {
        "id": "RMniZ-8l8m-x",
        "colab_type": "code",
        "colab": {}
      },
      "source": [
        "# define model\n",
        "class Classifier(nn.Module):\n",
        "  def __init__(self):\n",
        "    super().__init__()\n",
        "    \n",
        "    # define layers\n",
        "    self.fc1 = nn.Linear(784, 256)\n",
        "    self.fc2 = nn.Linear(256, 128)\n",
        "    self.fc3 = nn.Linear(128, 64)\n",
        "    self.fc4 = nn.Linear(64, 10)\n",
        "    \n",
        "    # define layout\n",
        "    self.dropout = nn.Dropout(p=0.2)\n",
        "  \n",
        "  def forward(self, x):\n",
        "    # flatten input\n",
        "    x = x.view(x.shape[0], -1)\n",
        "    \n",
        "    # forward pass\n",
        "    x = self.dropout(F.relu(self.fc1(x)))\n",
        "    x = self.dropout(F.relu(self.fc2(x)))\n",
        "    x = self.dropout(F.relu(self.fc3(x)))\n",
        "    \n",
        "    # output layer without dropout\n",
        "    x = F.log_softmax(self.fc4(x), dim=1)\n",
        "    \n",
        "    return x"
      ],
      "execution_count": 0,
      "outputs": []
    },
    {
      "cell_type": "code",
      "metadata": {
        "id": "GqGev6AvGiFY",
        "colab_type": "code",
        "colab": {}
      },
      "source": [
        "# setup network\n",
        "model = Classifier()\n",
        "\n",
        "# hyper params\n",
        "epochs = 30\n",
        "lr = 0.003\n",
        "\n",
        "# setup loss and optimizer\n",
        "optimizer = optim.Adam(model.parameters(), lr=lr)\n",
        "criterion = nn.NLLLoss()"
      ],
      "execution_count": 0,
      "outputs": []
    },
    {
      "cell_type": "code",
      "metadata": {
        "id": "PHAC2B2nJn3k",
        "colab_type": "code",
        "colab": {
          "base_uri": "https://localhost:8080/",
          "height": 527
        },
        "outputId": "d0708fe0-0619-459f-a9f9-4cbc53aa7345"
      },
      "source": [
        "# training network\n",
        "train_losses, test_losses = [], []\n",
        "\n",
        "for e in range(epochs):\n",
        "  train_loss = 0\n",
        "  for images, labels in trainloader:\n",
        "    optimizer.zero_grad()\n",
        "    loss = criterion(model(images), labels)\n",
        "    loss.backward()\n",
        "    optimizer.step()\n",
        "    \n",
        "    train_loss += loss.item()\n",
        "  \n",
        "  # turn off gradient\n",
        "  with torch.no_grad():\n",
        "    # turnoff dropout\n",
        "    model.eval()\n",
        "    \n",
        "    test_loss = 0\n",
        "    accuracy = 0\n",
        "    # test all the images, add to test loss\n",
        "    for images, labels in testloader:\n",
        "      log_ps = model(images)\n",
        "      test_loss += criterion(log_ps, labels)\n",
        "      \n",
        "      ps = torch.exp(log_ps)\n",
        "      _, top_class = ps.topk(1, dim=1)\n",
        "      equals = top_class == labels.view(*top_class.shape)\n",
        "      \n",
        "      accuracy += torch.mean(equals.type(torch.FloatTensor))\n",
        "  \n",
        "  # activate dropout\n",
        "  model.train()\n",
        "  \n",
        "  # add loss to lists\n",
        "  train_losses.append(train_loss/len(trainloader))\n",
        "  test_losses.append(test_loss/len(testloader))\n",
        "  \n",
        "  # print this epoch's results\n",
        "  print(f'Epoch {e+1}/{epochs}:\\\n",
        "  Train Loss:{train_losses[-1]:.3f}\\\n",
        "  Test Loss: {test_losses[-1]:.3f}\\\n",
        "  Accuracy:{100*accuracy/len(testloader):.3f}%')"
      ],
      "execution_count": 33,
      "outputs": [
        {
          "output_type": "stream",
          "text": [
            "Epoch 1/30:  Train Loss:0.600  Test Loss: 0.493  Accuracy:82.335%\n",
            "Epoch 2/30:  Train Loss:0.482  Test Loss: 0.430  Accuracy:84.753%\n",
            "Epoch 3/30:  Train Loss:0.449  Test Loss: 0.424  Accuracy:84.952%\n",
            "Epoch 4/30:  Train Loss:0.436  Test Loss: 0.412  Accuracy:85.082%\n",
            "Epoch 5/30:  Train Loss:0.423  Test Loss: 0.429  Accuracy:85.111%\n",
            "Epoch 6/30:  Train Loss:0.410  Test Loss: 0.422  Accuracy:84.912%\n",
            "Epoch 7/30:  Train Loss:0.400  Test Loss: 0.401  Accuracy:85.629%\n",
            "Epoch 8/30:  Train Loss:0.403  Test Loss: 0.405  Accuracy:85.211%\n",
            "Epoch 9/30:  Train Loss:0.393  Test Loss: 0.398  Accuracy:86.067%\n",
            "Epoch 10/30:  Train Loss:0.394  Test Loss: 0.385  Accuracy:86.644%\n",
            "Epoch 11/30:  Train Loss:0.386  Test Loss: 0.391  Accuracy:86.515%\n",
            "Epoch 12/30:  Train Loss:0.383  Test Loss: 0.376  Accuracy:87.231%\n",
            "Epoch 13/30:  Train Loss:0.374  Test Loss: 0.413  Accuracy:86.196%\n",
            "Epoch 14/30:  Train Loss:0.377  Test Loss: 0.434  Accuracy:85.002%\n",
            "Epoch 15/30:  Train Loss:0.370  Test Loss: 0.378  Accuracy:86.973%\n",
            "Epoch 16/30:  Train Loss:0.371  Test Loss: 0.393  Accuracy:86.266%\n",
            "Epoch 17/30:  Train Loss:0.366  Test Loss: 0.386  Accuracy:86.843%\n",
            "Epoch 18/30:  Train Loss:0.369  Test Loss: 0.384  Accuracy:86.992%\n",
            "Epoch 19/30:  Train Loss:0.364  Test Loss: 0.388  Accuracy:86.027%\n",
            "Epoch 20/30:  Train Loss:0.357  Test Loss: 0.381  Accuracy:86.883%\n",
            "Epoch 21/30:  Train Loss:0.353  Test Loss: 0.392  Accuracy:87.002%\n",
            "Epoch 22/30:  Train Loss:0.360  Test Loss: 0.398  Accuracy:87.122%\n",
            "Epoch 23/30:  Train Loss:0.351  Test Loss: 0.397  Accuracy:86.734%\n",
            "Epoch 24/30:  Train Loss:0.361  Test Loss: 0.383  Accuracy:86.823%\n",
            "Epoch 25/30:  Train Loss:0.350  Test Loss: 0.379  Accuracy:87.799%\n",
            "Epoch 26/30:  Train Loss:0.343  Test Loss: 0.385  Accuracy:86.365%\n",
            "Epoch 27/30:  Train Loss:0.348  Test Loss: 0.444  Accuracy:86.594%\n",
            "Epoch 28/30:  Train Loss:0.343  Test Loss: 0.392  Accuracy:87.112%\n",
            "Epoch 29/30:  Train Loss:0.337  Test Loss: 0.388  Accuracy:87.391%\n",
            "Epoch 30/30:  Train Loss:0.333  Test Loss: 0.379  Accuracy:87.530%\n"
          ],
          "name": "stdout"
        }
      ]
    },
    {
      "cell_type": "code",
      "metadata": {
        "id": "DdSnbArrPgj0",
        "colab_type": "code",
        "colab": {
          "base_uri": "https://localhost:8080/",
          "height": 286
        },
        "outputId": "1be9c91f-0883-41b7-be3f-6f40dbe60cd9"
      },
      "source": [
        "# plotting loss\n",
        "plt.plot(train_losses, label='Training Loss')\n",
        "plt.plot(test_losses, label='Validation Loss')\n",
        "plt.legend(frameon=False)"
      ],
      "execution_count": 34,
      "outputs": [
        {
          "output_type": "execute_result",
          "data": {
            "text/plain": [
              "<matplotlib.legend.Legend at 0x7fe856be12b0>"
            ]
          },
          "metadata": {
            "tags": []
          },
          "execution_count": 34
        },
        {
          "output_type": "display_data",
          "data": {
            "image/png": "[encoded data removed]",
            "text/plain": [
              "<Figure size 432x288 with 1 Axes>"
            ]
          },
          "metadata": {
            "tags": []
          }
        }
      ]
    },
    {
      "cell_type": "markdown",
      "metadata": {
        "id": "L9Z4Du_VSJow",
        "colab_type": "text"
      },
      "source": [
        "# Inference Model"
      ]
    },
    {
      "cell_type": "code",
      "metadata": {
        "id": "MJviUqghRsFf",
        "colab_type": "code",
        "colab": {
          "base_uri": "https://localhost:8080/",
          "height": 286
        },
        "outputId": "fcacb4fb-e749-4d6a-a7c3-088de47b0006"
      },
      "source": [
        "# sample test\n",
        "\n",
        "\n",
        "# turn off dropout\n",
        "model.eval()\n",
        "\n",
        "# test data\n",
        "data = iter(testloader)\n",
        "images, labels = data.next() \n",
        "img = images[0]\n",
        "label = labels[0]\n",
        "\n",
        "# forward pass\n",
        "ps = torch.exp(model(img))\n",
        "top_ps, top_class = ps.topk(1, dim=1)\n",
        "\n",
        "# plot or do whatever you want\n",
        "plt.imshow(img.numpy().squeeze())\n",
        "print(f'Actual Class:{label}; Predicted Class:{int(top_class)}')"
      ],
      "execution_count": 47,
      "outputs": [
        {
          "output_type": "stream",
          "text": [
            "Actual Class:6; Predicted Class:6\n"
          ],
          "name": "stdout"
        },
        {
          "output_type": "display_data",
          "data": {
            "image/png": "[encoded data removed]",
            "text/plain": [
              "<Figure size 432x288 with 1 Axes>"
            ]
          },
          "metadata": {
            "tags": []
          }
        }
      ]
    }
  ]
}