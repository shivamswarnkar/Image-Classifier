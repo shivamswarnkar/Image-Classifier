{
  "nbformat": 4,
  "nbformat_minor": 0,
  "metadata": {
    "colab": {
      "name": "cifar10_cnn_classifier.ipynb",
      "version": "0.3.2",
      "provenance": [],
      "include_colab_link": true
    },
    "kernelspec": {
      "name": "python3",
      "display_name": "Python 3"
    },
    "accelerator": "GPU"
  },
  "cells": [
    {
      "cell_type": "markdown",
      "metadata": {
        "id": "view-in-github",
        "colab_type": "text"
      },
      "source": [
        "<a href=\"https://colab.research.google.com/github/shivamswarnkar/Image-Classifier/blob/master/cifar10_cnn_classifier.ipynb\" target=\"_parent\"><img src=\"https://colab.research.google.com/assets/colab-badge.svg\" alt=\"Open In Colab\"/></a>"
      ]
    },
    {
      "cell_type": "markdown",
      "metadata": {
        "id": "0d7ZbFvBsXJn",
        "colab_type": "text"
      },
      "source": [
        "# About"
      ]
    },
    {
      "cell_type": "code",
      "metadata": {
        "id": "r1hcPcdEj7YF",
        "colab_type": "code",
        "colab": {
          "base_uri": "https://localhost:8080/",
          "height": 34
        },
        "outputId": "d1faf46a-f0d1-4017-99d1-8a2f72fc0c4a"
      },
      "source": [
        "import torch\n",
        "device = torch.device('cuda:0' if torch.cuda.is_available() else 'cpu')\n",
        "device"
      ],
      "execution_count": 10,
      "outputs": [
        {
          "output_type": "execute_result",
          "data": {
            "text/plain": [
              "device(type='cuda', index=0)"
            ]
          },
          "metadata": {
            "tags": []
          },
          "execution_count": 10
        }
      ]
    },
    {
      "cell_type": "markdown",
      "metadata": {
        "id": "Tgs8-jY8saRU",
        "colab_type": "text"
      },
      "source": [
        "# Load and Transform Data\n"
      ]
    },
    {
      "cell_type": "code",
      "metadata": {
        "id": "y9VV4ZQyeH5o",
        "colab_type": "code",
        "colab": {}
      },
      "source": [
        "from torchvision import datasets, transforms\n",
        "from torch.utils.data import DataLoader\n",
        "from torch.utils.data.sampler import SubsetRandomSampler\n",
        "import numpy as np"
      ],
      "execution_count": 0,
      "outputs": []
    },
    {
      "cell_type": "code",
      "metadata": {
        "id": "oKdfrhv7dByG",
        "colab_type": "code",
        "colab": {}
      },
      "source": [
        "# Define Transforms (Normalize + Augmentation)\n",
        "training_transform = transforms.Compose([transforms.RandomHorizontalFlip(),\n",
        "                                         transforms.RandomRotation(30),\n",
        "                                         transforms.ToTensor(), \n",
        "                                         transforms.Normalize((0.5, 0.5, 0.5), (0.5,0.5,0.5)),\n",
        "                                        ])\n",
        "\n",
        "test_transform = transforms.Compose([transforms.ToTensor(), \n",
        "                                         transforms.Normalize((0.5, 0.5, 0.5), (0.5,0.5,0.5)),\n",
        "                                        ])"
      ],
      "execution_count": 0,
      "outputs": []
    },
    {
      "cell_type": "code",
      "metadata": {
        "id": "14Ykkz-EdETf",
        "colab_type": "code",
        "colab": {
          "base_uri": "https://localhost:8080/",
          "height": 88
        },
        "outputId": "2dc2a4f7-9853-4d97-86ad-eb69b924f64b"
      },
      "source": [
        "# Download CIFAR10 Data\n",
        "train_data = datasets.CIFAR10('data', train=True, download=True, \n",
        "                              transform=training_transform)\n",
        "test_data = datasets.CIFAR10('data', train=False, download=True, \n",
        "                             transform=test_transform)"
      ],
      "execution_count": 3,
      "outputs": [
        {
          "output_type": "stream",
          "text": [
            "\r0it [00:00, ?it/s]"
          ],
          "name": "stderr"
        },
        {
          "output_type": "stream",
          "text": [
            "Downloading https://www.cs.toronto.edu/~kriz/cifar-10-python.tar.gz to data/cifar-10-python.tar.gz\n"
          ],
          "name": "stdout"
        },
        {
          "output_type": "stream",
          "text": [
            "170500096it [00:04, 35645680.31it/s]                               \n"
          ],
          "name": "stderr"
        },
        {
          "output_type": "stream",
          "text": [
            "Files already downloaded and verified\n"
          ],
          "name": "stdout"
        }
      ]
    },
    {
      "cell_type": "code",
      "metadata": {
        "id": "sEgqcOFjgwLm",
        "colab_type": "code",
        "colab": {}
      },
      "source": [
        "# precentage of training set to use as validation data\n",
        "valid_size = 0.2 \n",
        "\n",
        "# training indices that will be used for validation\n",
        "num_train = len(train_data)\n",
        "indx = list(range(num_train))\n",
        "np.random.shuffle(indx)\n",
        "split_indx = int(np.floor(valid_size * num_train))\n",
        "train_indx, valid_indx = indx[split_indx:], indx[:split_indx]\n",
        "\n",
        "# setup samplers\n",
        "train_sampler = SubsetRandomSampler(train_indx)\n",
        "valid_sampler = SubsetRandomSampler(valid_indx)"
      ],
      "execution_count": 0,
      "outputs": []
    },
    {
      "cell_type": "code",
      "metadata": {
        "id": "1ffIlZsahgwK",
        "colab_type": "code",
        "colab": {}
      },
      "source": [
        "# how many samples per batch to load\n",
        "batch_size = 32\n",
        "\n",
        "# setup Data Loaders\n",
        "train_loader = DataLoader(train_data, batch_size=batch_size, sampler=train_sampler)\n",
        "valid_loader = DataLoader(train_data, batch_size=batch_size, sampler=valid_sampler)\n",
        "test_loader = DataLoader(test_data, batch_size=batch_size)"
      ],
      "execution_count": 0,
      "outputs": []
    },
    {
      "cell_type": "code",
      "metadata": {
        "id": "YZDmlDHohhn1",
        "colab_type": "code",
        "colab": {}
      },
      "source": [
        "# image classes\n",
        "classes = ['airplane', 'automobile', 'bird', 'cat', 'deer', \n",
        "           'dog', 'frog', 'horse', 'ship', 'truck']"
      ],
      "execution_count": 0,
      "outputs": []
    },
    {
      "cell_type": "markdown",
      "metadata": {
        "id": "RqIIBrU-nh5S",
        "colab_type": "text"
      },
      "source": [
        "# Util Functions for Visualization"
      ]
    },
    {
      "cell_type": "code",
      "metadata": {
        "id": "KsDvoJ7GniI1",
        "colab_type": "code",
        "colab": {}
      },
      "source": [
        "import matplotlib.pyplot as plt\n",
        "# helper function to un-normalize and display an image\n",
        "def imshow(img):\n",
        "    img = img / 2 + 0.5  # unnormalize\n",
        "    plt.imshow(np.transpose(img, (1, 2, 0)))  # convert from Tensor image"
      ],
      "execution_count": 0,
      "outputs": []
    },
    {
      "cell_type": "code",
      "metadata": {
        "id": "29iDi3FSnDhQ",
        "colab_type": "code",
        "colab": {
          "base_uri": "https://localhost:8080/",
          "height": 269
        },
        "outputId": "61bd713e-52b8-456c-f8d6-398649b62681"
      },
      "source": [
        "imshow(iter(train_loader).next()[0][0])"
      ],
      "execution_count": 25,
      "outputs": [
        {
          "output_type": "display_data",
          "data": {
            "image/png": "[encoded data removed]",
            "text/plain": [
              "<Figure size 432x288 with 1 Axes>"
            ]
          },
          "metadata": {
            "tags": []
          }
        }
      ]
    },
    {
      "cell_type": "markdown",
      "metadata": {
        "id": "tOs74pFEjWlu",
        "colab_type": "text"
      },
      "source": [
        "# Define the Network Architecture"
      ]
    },
    {
      "cell_type": "code",
      "metadata": {
        "id": "sYn1XYbkjMcU",
        "colab_type": "code",
        "colab": {}
      },
      "source": [
        "from torch import nn, optim\n",
        "import torch.nn.functional as F"
      ],
      "execution_count": 0,
      "outputs": []
    },
    {
      "cell_type": "code",
      "metadata": {
        "id": "0jx8vrl-mul-",
        "colab_type": "code",
        "colab": {}
      },
      "source": [
        "class Classifier(nn.Module):\n",
        "  def __init__(self):\n",
        "    super(Classifier, self).__init__()\n",
        "    \n",
        "    # Convolutional layers\n",
        "    self.conv1 = nn.Conv2d(3, 16, 3, padding=1)\n",
        "    self.conv2 = nn.Conv2d(16, 32, 3, padding=1)\n",
        "    self.conv3 = nn.Conv2d(32, 64, 3, padding=1)\n",
        "\n",
        "    \n",
        "    # max pooling layer\n",
        "    self.pool = nn.MaxPool2d(2,2)\n",
        "    \n",
        "    # Fully-connected NN; First input=\n",
        "    self.fc1 = nn.Linear(4*4*64, 512)\n",
        "    self.fc2 = nn.Linear(512, 128)\n",
        "    self.fc3 = nn.Linear(128, 10)\n",
        "    \n",
        "    # dropout\n",
        "    self.dropout = nn.Dropout(p=0.2)\n",
        "  \n",
        "  \n",
        "  def forward(self, x):\n",
        "    \n",
        "    # conv layers\n",
        "    x = self.pool(F.relu(self.conv1(x)))\n",
        "    x = self.pool(F.relu(self.conv2(x)))\n",
        "    x = self.pool(F.relu(self.conv3(x)))\n",
        "    \n",
        "    # flatten image\n",
        "    x = x.view(-1, 64*4*4)\n",
        "    \n",
        "    # fc layers\n",
        "    x = self.dropout(F.relu(self.fc1(x)))\n",
        "    x = self.dropout(F.relu(self.fc2(x)))\n",
        "    \n",
        "    \n",
        "    # output\n",
        "    x = F.log_softmax(self.fc3(x), dim=1)\n",
        "    \n",
        "    \n",
        "    return x"
      ],
      "execution_count": 0,
      "outputs": []
    },
    {
      "cell_type": "markdown",
      "metadata": {
        "id": "SG-0sKq4oX3B",
        "colab_type": "text"
      },
      "source": [
        "# Train & Validate"
      ]
    },
    {
      "cell_type": "code",
      "metadata": {
        "id": "ZrxCLG9B0ckM",
        "colab_type": "code",
        "colab": {}
      },
      "source": [
        "from torch import optim"
      ],
      "execution_count": 0,
      "outputs": []
    },
    {
      "cell_type": "code",
      "metadata": {
        "id": "sfH_J9EN0MAj",
        "colab_type": "code",
        "colab": {}
      },
      "source": [
        "# setup model\n",
        "model = Classifier()\n",
        "\n",
        "# move model to GPU if available\n",
        "model.to(device)\n",
        "\n",
        "#Loss and Optimizer\n",
        "optimizer = optim.Adam(model.parameters(), lr=0.01)\n",
        "criterion = nn.NLLLoss()"
      ],
      "execution_count": 0,
      "outputs": []
    },
    {
      "cell_type": "code",
      "metadata": {
        "id": "U456CTE_nGRT",
        "colab_type": "code",
        "colab": {
          "base_uri": "https://localhost:8080/",
          "height": 969
        },
        "outputId": "6abcd94e-04e6-4f83-d97c-3afac8118884"
      },
      "source": [
        "epochs = 50\n",
        "train_losses, valid_losses = [], []\n",
        "min_valid_loss = np.Inf\n",
        "\n",
        "# train\n",
        "for e in range(epochs):\n",
        "  \n",
        "  # turn on dropout\n",
        "  model.train()\n",
        "  \n",
        "  # reset loss value for current epoch\n",
        "  train_loss = 0\n",
        "  \n",
        "  \n",
        "  # train\n",
        "  for images, labels in train_loader:\n",
        "    optimizer.zero_grad()\n",
        "    \n",
        "    # move data to GPU if available\n",
        "    images, labels = images.to(device), labels.to(device)\n",
        "    \n",
        "    # calc loss\n",
        "    loss = criterion(model(images), labels)\n",
        "    \n",
        "    # back prop\n",
        "    loss.backward()\n",
        "    \n",
        "    # update weights & bias\n",
        "    optimizer.step()\n",
        "    \n",
        "    # add to total loss\n",
        "    train_loss += loss.item()\n",
        "  \n",
        "  \n",
        "  # validate; turn off gradient calc\n",
        "  with torch.no_grad():\n",
        "    \n",
        "    # turn off dropout\n",
        "    model.eval()\n",
        "    \n",
        "    \n",
        "    # reset loss value for current epoch\n",
        "    valid_loss = 0\n",
        "    \n",
        "    # validate\n",
        "    for images, labels in valid_loader:\n",
        "      \n",
        "      # move data to GPU if available\n",
        "      images, labels = images.to(device), labels.to(device)\n",
        "      \n",
        "      # forward pass & update loss\n",
        "      valid_loss += criterion(model(images), labels).item()\n",
        "    \n",
        "  \n",
        "  # append current loss to array\n",
        "  train_losses.append(train_loss/len(train_loader))\n",
        "  valid_losses.append(valid_loss/len(valid_loader))\n",
        "  \n",
        "  # print status\n",
        "  print(f'Epoch {e+1}/{epochs}: Train Loss: {train_losses[-1]:.3f}  Validation Loss: {valid_losses[-1]:.3f}')\n",
        "  \n",
        "  # check if model should be saved\n",
        "  if valid_losses[-1] < min_valid_loss:\n",
        "    print('----Validation Loss Decreased. Saving Model----')\n",
        "    torch.save(model.state_dict(), 'cifar10_cnn_classifier_checkpoint.pth')\n",
        "    min_valid_loss = valid_losses[-1]\n",
        "    \n",
        "    \n"
      ],
      "execution_count": 50,
      "outputs": [
        {
          "output_type": "stream",
          "text": [
            "Epoch 1/50: Train Loss: 1.921  Validation Loss: 1.885\n",
            "----Validation Loss Decreased. Saving Model----\n",
            "Epoch 2/50: Train Loss: 1.911  Validation Loss: 1.865\n",
            "----Validation Loss Decreased. Saving Model----\n",
            "Epoch 3/50: Train Loss: 1.913  Validation Loss: 1.851\n",
            "----Validation Loss Decreased. Saving Model----\n",
            "Epoch 4/50: Train Loss: 1.912  Validation Loss: 1.854\n",
            "Epoch 5/50: Train Loss: 1.914  Validation Loss: 1.908\n",
            "Epoch 6/50: Train Loss: 1.905  Validation Loss: 1.841\n",
            "----Validation Loss Decreased. Saving Model----\n",
            "Epoch 7/50: Train Loss: 1.908  Validation Loss: 1.851\n",
            "Epoch 8/50: Train Loss: 1.917  Validation Loss: 1.837\n",
            "----Validation Loss Decreased. Saving Model----\n",
            "Epoch 9/50: Train Loss: 1.907  Validation Loss: 1.854\n",
            "Epoch 10/50: Train Loss: 1.932  Validation Loss: 1.868\n",
            "Epoch 11/50: Train Loss: 1.899  Validation Loss: 1.820\n",
            "----Validation Loss Decreased. Saving Model----\n",
            "Epoch 12/50: Train Loss: 1.895  Validation Loss: 1.835\n",
            "Epoch 13/50: Train Loss: 1.899  Validation Loss: 1.878\n",
            "Epoch 14/50: Train Loss: 1.904  Validation Loss: 1.865\n",
            "Epoch 15/50: Train Loss: 1.897  Validation Loss: 1.840\n",
            "Epoch 16/50: Train Loss: 1.896  Validation Loss: 1.825\n",
            "Epoch 17/50: Train Loss: 1.905  Validation Loss: 1.855\n",
            "Epoch 18/50: Train Loss: 1.906  Validation Loss: 1.866\n",
            "Epoch 19/50: Train Loss: 1.907  Validation Loss: 1.829\n",
            "Epoch 20/50: Train Loss: 1.911  Validation Loss: 1.829\n",
            "Epoch 21/50: Train Loss: 1.919  Validation Loss: 1.848\n",
            "Epoch 22/50: Train Loss: 1.910  Validation Loss: 1.865\n",
            "Epoch 23/50: Train Loss: 1.901  Validation Loss: 1.857\n",
            "Epoch 24/50: Train Loss: 1.904  Validation Loss: 1.856\n",
            "Epoch 25/50: Train Loss: 1.962  Validation Loss: 1.866\n",
            "Epoch 26/50: Train Loss: 1.925  Validation Loss: 1.849\n",
            "Epoch 27/50: Train Loss: 1.927  Validation Loss: 1.860\n",
            "Epoch 28/50: Train Loss: 1.942  Validation Loss: 1.885\n",
            "Epoch 29/50: Train Loss: 1.930  Validation Loss: 1.866\n",
            "Epoch 30/50: Train Loss: 1.925  Validation Loss: 1.884\n",
            "Epoch 31/50: Train Loss: 1.937  Validation Loss: 1.866\n",
            "Epoch 32/50: Train Loss: 1.927  Validation Loss: 1.860\n",
            "Epoch 33/50: Train Loss: 1.905  Validation Loss: 1.874\n",
            "Epoch 34/50: Train Loss: 1.962  Validation Loss: 1.867\n",
            "Epoch 35/50: Train Loss: 1.926  Validation Loss: 1.864\n",
            "Epoch 36/50: Train Loss: 1.905  Validation Loss: 1.837\n",
            "Epoch 37/50: Train Loss: 1.898  Validation Loss: 1.873\n",
            "Epoch 38/50: Train Loss: 1.939  Validation Loss: 1.901\n",
            "Epoch 39/50: Train Loss: 1.924  Validation Loss: 1.885\n",
            "Epoch 40/50: Train Loss: 1.939  Validation Loss: 1.887\n",
            "Epoch 41/50: Train Loss: 1.930  Validation Loss: 1.897\n",
            "Epoch 42/50: Train Loss: 1.921  Validation Loss: 1.824\n",
            "Epoch 43/50: Train Loss: 1.923  Validation Loss: 1.865\n",
            "Epoch 44/50: Train Loss: 1.945  Validation Loss: 1.857\n",
            "Epoch 45/50: Train Loss: 1.918  Validation Loss: 1.865\n",
            "Epoch 46/50: Train Loss: 1.931  Validation Loss: 1.931\n",
            "Epoch 47/50: Train Loss: 1.924  Validation Loss: 1.885\n",
            "Epoch 48/50: Train Loss: 1.926  Validation Loss: 1.868\n",
            "Epoch 49/50: Train Loss: 1.919  Validation Loss: 1.909\n",
            "Epoch 50/50: Train Loss: 1.933  Validation Loss: 1.899\n"
          ],
          "name": "stdout"
        }
      ]
    },
    {
      "cell_type": "code",
      "metadata": {
        "id": "RhPMe1rqBSIB",
        "colab_type": "code",
        "colab": {
          "base_uri": "https://localhost:8080/",
          "height": 286
        },
        "outputId": "f02df979-4674-4e9f-d9b8-10d63e44a42b"
      },
      "source": [
        "# plotting Validation & Training Loss\n",
        "plt.plot(train_losses, label='Training Loss')\n",
        "plt.plot(valid_losses, label='Validation Loss')\n",
        "plt.legend(frameon=False)"
      ],
      "execution_count": 56,
      "outputs": [
        {
          "output_type": "execute_result",
          "data": {
            "text/plain": [
              "<matplotlib.legend.Legend at 0x7fcd8a6d37f0>"
            ]
          },
          "metadata": {
            "tags": []
          },
          "execution_count": 56
        },
        {
          "output_type": "display_data",
          "data": {
            "image/png": "[encoded data removed]",
            "text/plain": [
              "<Figure size 432x288 with 1 Axes>"
            ]
          },
          "metadata": {
            "tags": []
          }
        }
      ]
    },
    {
      "cell_type": "markdown",
      "metadata": {
        "id": "kApeCOEcocQO",
        "colab_type": "text"
      },
      "source": [
        "# Loading Best Model + Saving to Google Drive"
      ]
    },
    {
      "cell_type": "code",
      "metadata": {
        "id": "fj6bXBBI7rRr",
        "colab_type": "code",
        "colab": {
          "base_uri": "https://localhost:8080/",
          "height": 34
        },
        "outputId": "066b4ce4-6087-4082-be99-f00a5fac394e"
      },
      "source": [
        "# load the best saved model\n",
        "state_dict = torch.load('cifar10_cnn_classifier_checkpoint.pth')\n",
        "model.load_state_dict(state_dict)"
      ],
      "execution_count": 51,
      "outputs": [
        {
          "output_type": "execute_result",
          "data": {
            "text/plain": [
              "IncompatibleKeys(missing_keys=[], unexpected_keys=[])"
            ]
          },
          "metadata": {
            "tags": []
          },
          "execution_count": 51
        }
      ]
    },
    {
      "cell_type": "code",
      "metadata": {
        "id": "tbM2IRHHofUR",
        "colab_type": "code",
        "colab": {}
      },
      "source": [
        "# saving best model to google drive\n",
        "from google.colab import drive\n",
        "drive.mount('/content/gdrive')\n",
        "torch.save(model.state_dict(), '/content/gdrive/My Drive/cifar10_cnn_classifier.pth')"
      ],
      "execution_count": 0,
      "outputs": []
    },
    {
      "cell_type": "markdown",
      "metadata": {
        "id": "TPDq1wxN-che",
        "colab_type": "text"
      },
      "source": [
        "# Test Accuracy"
      ]
    },
    {
      "cell_type": "code",
      "metadata": {
        "id": "ZGeXLOFu-cvo",
        "colab_type": "code",
        "colab": {
          "base_uri": "https://localhost:8080/",
          "height": 34
        },
        "outputId": "ccb07215-4d02-4d31-867d-99bedd76b2ce"
      },
      "source": [
        "# load the best saved model from local storage\n",
        "state_dict = torch.load('cifar10_cnn_classifier_checkpoint.pth')\n",
        "model.load_state_dict(state_dict)\n",
        "\n",
        "# load the best saved model from Google Drive\n",
        "# from google.colab import drive\n",
        "# drive.mount('/content/gdrive')\n",
        "# state_dict = torch.load('/content/gdrive/My Drive/cifar10_cnn_classifier.pth')\n",
        "# model.load_state_dict(state_dict)\n",
        "\n",
        "# Calculate Test Loss & Accuracy\n",
        "with torch.no_grad():\n",
        "  model.eval()\n",
        "  test_loss = 0\n",
        "  accuracy = 0\n",
        "  for images, labels in test_loader:\n",
        "    \n",
        "    # move data to GPU if available\n",
        "    images, labels = images.to(device), labels.to(device)\n",
        "    \n",
        "    # forward pass\n",
        "    log_ps = model(images)\n",
        "    \n",
        "    # calculate loss\n",
        "    test_loss += criterion(log_ps, labels)\n",
        "    \n",
        "    # calc accuracy\n",
        "    _, top_class = torch.exp(log_ps).topk(1, dim=1)\n",
        "    equals = top_class == labels.view(*top_class.shape)\n",
        "    accuracy += torch.mean(equals.type(torch.FloatTensor))\n",
        "  \n",
        "  \n",
        "  # print results\n",
        "  print(f'Test Loss={test_loss/len(test_loader):.3f}  Accuracy:{100*accuracy/len(test_loader):.3f}%')"
      ],
      "execution_count": 55,
      "outputs": [
        {
          "output_type": "stream",
          "text": [
            "Test Loss=1.787  Accuracy:33.167%\n"
          ],
          "name": "stdout"
        }
      ]
    }
  ]
}